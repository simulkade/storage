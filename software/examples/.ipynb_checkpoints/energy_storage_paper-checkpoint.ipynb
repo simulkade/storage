{
 "cells": [
  {
   "cell_type": "markdown",
   "id": "d676a0f6-5a16-4f1c-a3e5-c2078a9bb13b",
   "metadata": {},
   "source": [
    "## Energy storage paper\n",
    "This is a clean up and extension of my calculations for the subsurface energy storage paper presented in ECOS 2021. Here, I am cleaning up some of the code and add some details to the paper."
   ]
  },
  {
   "cell_type": "code",
   "execution_count": null,
   "id": "c2d71fc3-c927-46bc-b294-3f7199267025",
   "metadata": {},
   "outputs": [],
   "source": [
    "using DataFrames, CSV, Dates"
   ]
  }
 ],
 "metadata": {
  "kernelspec": {
   "display_name": "Julia 1.6.2",
   "language": "julia",
   "name": "julia-1.6"
  },
  "language_info": {
   "file_extension": ".jl",
   "mimetype": "application/julia",
   "name": "julia",
   "version": "1.6.2"
  }
 },
 "nbformat": 4,
 "nbformat_minor": 5
}
