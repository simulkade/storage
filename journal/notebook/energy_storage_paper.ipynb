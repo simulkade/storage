{
 "cells": [
  {
   "cell_type": "markdown",
   "id": "d676a0f6-5a16-4f1c-a3e5-c2078a9bb13b",
   "metadata": {},
   "source": [
    "## Energy storage paper\n",
    "This is a clean up and extension of my calculations for the subsurface energy storage paper presented in ECOS 2021. Here, I am cleaning up some of the code and add some details to the paper."
   ]
  },
  {
   "cell_type": "code",
   "execution_count": 2,
   "id": "c2d71fc3-c927-46bc-b294-3f7199267025",
   "metadata": {},
   "outputs": [],
   "source": [
    "using DataFrames, CSV, Dates, Plots\n",
    "# ]add DataFrames, CSV, Dates, Plots"
   ]
  },
  {
   "cell_type": "markdown",
   "id": "22798218-3654-4f30-a397-15fbd4078679",
   "metadata": {},
   "source": [
    "## Energy balance of Denmark\n",
    "The electricity supply and demand of Denmark is downloaded from the Energynet website (one of the provided links to a third party). I have checked most of it and it looks fine although it must be used with care. First we load the data as a DataFrame structure.  \n",
    "Here are the links to the data webpages:  \n",
    "https://www.energidataservice.dk/tso-gas/gasflow  \n",
    "https://www.energidataservice.dk/gas-storage-denmark/storagecapacity   \n",
    "https://www.energidataservice.dk/tso-electricity/electricitybalancenonv"
   ]
  },
  {
   "cell_type": "code",
   "execution_count": 5,
   "id": "2750e662-c7d4-48bc-a930-53b03a374ec7",
   "metadata": {},
   "outputs": [
    {
     "name": "stdout",
     "output_type": "stream",
     "text": [
      "Data loaded successfully\n"
     ]
    }
   ],
   "source": [
    "# load the data file\n",
    "file_name = \"electricitybalancenonv_8_31_2021.csv\"\n",
    "df = DataFrame(CSV.File(file_name))\n",
    "println(\"Data loaded successfully\")"
   ]
  },
  {
   "cell_type": "markdown",
   "id": "80429c27-49b1-462d-a029-7622dbb81541",
   "metadata": {},
   "source": [
    "The data file covers a period of several years which is not what I need for my calculations. Therefore, I extract shorter periods from the data:"
   ]
  },
  {
   "cell_type": "code",
   "execution_count": 6,
   "id": "9896d079-a329-46ab-b175-7d58bbd9a842",
   "metadata": {},
   "outputs": [
    {
     "data": {
      "text/plain": [
       "5810-element Vector{DateTime}:\n",
       " 2051-01-30T00:00:00\n",
       " 2051-01-30T00:00:00\n",
       " 2051-01-29T23:00:00\n",
       " 2051-01-29T23:00:00\n",
       " 2051-01-29T22:00:00\n",
       " 2051-01-29T22:00:00\n",
       " 2051-01-29T21:00:00\n",
       " 2051-01-29T21:00:00\n",
       " 2051-01-29T20:00:00\n",
       " 2051-01-29T20:00:00\n",
       " 2051-01-29T19:00:00\n",
       " 2051-01-29T19:00:00\n",
       " 2051-01-29T18:00:00\n",
       " ⋮\n",
       " 2050-10-01T05:00:00\n",
       " 2050-10-01T05:00:00\n",
       " 2050-10-01T04:00:00\n",
       " 2050-10-01T04:00:00\n",
       " 2050-10-01T03:00:00\n",
       " 2050-10-01T03:00:00\n",
       " 2050-10-01T02:00:00\n",
       " 2050-10-01T02:00:00\n",
       " 2050-10-01T01:00:00\n",
       " 2050-10-01T01:00:00\n",
       " 2050-10-01T00:00:00\n",
       " 2050-10-01T00:00:00"
      ]
     },
     "execution_count": 6,
     "metadata": {},
     "output_type": "execute_result"
    }
   ],
   "source": [
    "# separate the relevant section\n",
    "date_begin = DateTime(\"2020-10-01\")\n",
    "date_end = DateTime(\"2021-01-30\")\n",
    "d_long = df[date_begin .<= df.HourDK .<= date_end, :]\n",
    "d_long.HourDK .+= Dates.Year(30)"
   ]
  },
  {
   "cell_type": "code",
   "execution_count": 9,
   "id": "9676b275-27a7-4b9b-8277-b71d40a8bb8b",
   "metadata": {},
   "outputs": [
    {
     "data": {
      "text/plain": [
       "2020-10-01T00:00:00"
      ]
     },
     "execution_count": 9,
     "metadata": {},
     "output_type": "execute_result"
    }
   ],
   "source": [
    "date_begin"
   ]
  },
  {
   "cell_type": "code",
   "execution_count": 7,
   "id": "de832d68-0401-449b-8d75-eb181a275fa1",
   "metadata": {},
   "outputs": [
    {
     "data": {
      "text/plain": [
       "\"2020-11-30\""
      ]
     },
     "execution_count": 7,
     "metadata": {},
     "output_type": "execute_result"
    }
   ],
   "source": [
    "# extract the surplus and demand in the future\n",
    "future_coef = 4.0\n",
    "demand_coef = 1.5\n",
    "new_elec = future_coef*(d_long.OnshoreWindPower+d_long.OffshoreWindPower)\n",
    "current_demand = demand_coef*d_long.TotalLoad\n",
    "surplus_elec = new_elec-current_demand\n",
    "new_elec[new_elec .> current_demand] .= current_demand[new_elec .> current_demand]\n",
    "surplus_elec[surplus_elec .< 0] .= 0.0\n",
    "shortage_elec = current_demand-new_elec\n",
    "\n",
    "# set the end of storage\n",
    "end_storage = \"2020-11-30\""
   ]
  },
  {
   "cell_type": "code",
   "execution_count": 8,
   "id": "3eba6476-4534-4165-a26f-2f0698b34a8e",
   "metadata": {},
   "outputs": [
    {
     "ename": "LoadError",
     "evalue": "Cannot convert DataFrame to series data for plotting",
     "output_type": "error",
     "traceback": [
      "Cannot convert DataFrame to series data for plotting",
      "",
      "Stacktrace:",
      "  [1] error(s::String)",
      "    @ Base ./error.jl:33",
      "  [2] _prepare_series_data(x::DataFrame)",
      "    @ RecipesPipeline ~/.julia/packages/RecipesPipeline/Bxu2O/src/series.jl:8",
      "  [3] _series_data_vector(x::DataFrame, plotattributes::Dict{Symbol, Any})",
      "    @ RecipesPipeline ~/.julia/packages/RecipesPipeline/Bxu2O/src/series.jl:27",
      "  [4] macro expansion",
      "    @ ~/.julia/packages/RecipesPipeline/Bxu2O/src/series.jl:144 [inlined]",
      "  [5] apply_recipe(plotattributes::AbstractDict{Symbol, Any}, #unused#::Type{RecipesPipeline.SliceIt}, x::Any, y::Any, z::Any)",
      "    @ RecipesPipeline ~/.julia/packages/RecipesBase/3fzVq/src/RecipesBase.jl:283",
      "  [6] _process_userrecipes!(plt::Any, plotattributes::Any, args::Any)",
      "    @ RecipesPipeline ~/.julia/packages/RecipesPipeline/Bxu2O/src/user_recipe.jl:36",
      "  [7] recipe_pipeline!(plt::Any, plotattributes::Any, args::Any)",
      "    @ RecipesPipeline ~/.julia/packages/RecipesPipeline/Bxu2O/src/RecipesPipeline.jl:70",
      "  [8] _plot!(plt::Plots.Plot, plotattributes::Any, args::Any)",
      "    @ Plots ~/.julia/packages/Plots/J70Ph/src/plot.jl:208",
      "  [9] plot(args::Any; kw::Any)",
      "    @ Plots ~/.julia/packages/Plots/J70Ph/src/plot.jl:91",
      " [10] plot(args::Any)",
      "    @ Plots ~/.julia/packages/Plots/J70Ph/src/plot.jl:85",
      " [11] top-level scope",
      "    @ In[8]:1",
      " [12] eval",
      "    @ ./boot.jl:360 [inlined]",
      " [13] include_string(mapexpr::typeof(REPL.softscope), mod::Module, code::String, filename::String)",
      "    @ Base ./loading.jl:1116"
     ]
    }
   ],
   "source": [
    "plot(d_long)"
   ]
  }
 ],
 "metadata": {
  "kernelspec": {
   "display_name": "Julia 1.6.2",
   "language": "julia",
   "name": "julia-1.6"
  },
  "language_info": {
   "file_extension": ".jl",
   "mimetype": "application/julia",
   "name": "julia",
   "version": "1.6.2"
  }
 },
 "nbformat": 4,
 "nbformat_minor": 5
}
