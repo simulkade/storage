{
 "cells": [
  {
   "cell_type": "markdown",
   "id": "d676a0f6-5a16-4f1c-a3e5-c2078a9bb13b",
   "metadata": {},
   "source": [
    "## Energy storage paper\n",
    "This is a clean up and extension of my calculations for the subsurface energy storage paper presented in ECOS 2021. Here, I am cleaning up some of the code and add some details to the paper."
   ]
  },
  {
   "cell_type": "code",
   "execution_count": 1,
   "id": "c2d71fc3-c927-46bc-b294-3f7199267025",
   "metadata": {},
   "outputs": [],
   "source": [
    "using DataFrames, CSV, Dates"
   ]
  },
  {
   "cell_type": "markdown",
   "id": "22798218-3654-4f30-a397-15fbd4078679",
   "metadata": {},
   "source": [
    "## Energy balance of Denmark\n",
    "The electricity supply and demand of Denmark is downloaded from the Energynet website (one of the provided links to a third party). I have checked most of it and it looks fine although it must be used with care. First we load the data as a DataFrame structure.  \n",
    "Here are the links to the data webpages:  \n",
    "https://www.energidataservice.dk/tso-gas/gasflow  \n",
    "https://www.energidataservice.dk/gas-storage-denmark/storagecapacity   \n",
    "https://www.energidataservice.dk/tso-electricity/electricitybalancenonv"
   ]
  },
  {
   "cell_type": "code",
   "execution_count": 6,
   "id": "2750e662-c7d4-48bc-a930-53b03a374ec7",
   "metadata": {},
   "outputs": [
    {
     "data": {
      "text/html": [
       "<div class=\"data-frame\"><p>81,660 rows × 17 columns (omitted printing of 12 columns)</p><table class=\"data-frame\"><thead><tr><th></th><th>HourUTC</th><th>HourDK</th><th>PriceArea</th><th>TotalLoad</th><th>Biomass</th></tr><tr><th></th><th title=\"String\">String</th><th title=\"DateTime\">DateTime</th><th title=\"String\">String</th><th title=\"Union{Missing, Float64}\">Float64?</th><th title=\"Union{Missing, Float64}\">Float64?</th></tr></thead><tbody><tr><th>1</th><td>2021-08-31T08:00:00+00:00</td><td>2021-08-31T10:00:00</td><td>DK2</td><td>1713.02</td><td>357.67</td></tr><tr><th>2</th><td>2021-08-31T08:00:00+00:00</td><td>2021-08-31T10:00:00</td><td>DK1</td><td>3038.9</td><td>30.38</td></tr><tr><th>3</th><td>2021-08-31T07:00:00+00:00</td><td>2021-08-31T09:00:00</td><td>DK1</td><td>2988.66</td><td>30.87</td></tr><tr><th>4</th><td>2021-08-31T07:00:00+00:00</td><td>2021-08-31T09:00:00</td><td>DK2</td><td>1694.22</td><td>371.29</td></tr><tr><th>5</th><td>2021-08-31T06:00:00+00:00</td><td>2021-08-31T08:00:00</td><td>DK2</td><td>1640.6</td><td>508.45</td></tr><tr><th>6</th><td>2021-08-31T06:00:00+00:00</td><td>2021-08-31T08:00:00</td><td>DK1</td><td>2793.64</td><td>31.54</td></tr><tr><th>7</th><td>2021-08-31T05:00:00+00:00</td><td>2021-08-31T07:00:00</td><td>DK1</td><td>2734.95</td><td>30.12</td></tr><tr><th>8</th><td>2021-08-31T05:00:00+00:00</td><td>2021-08-31T07:00:00</td><td>DK2</td><td>1522.96</td><td>481.97</td></tr><tr><th>9</th><td>2021-08-31T04:00:00+00:00</td><td>2021-08-31T06:00:00</td><td>DK2</td><td>1339.02</td><td>359.9</td></tr><tr><th>10</th><td>2021-08-31T04:00:00+00:00</td><td>2021-08-31T06:00:00</td><td>DK1</td><td>2506.82</td><td>29.53</td></tr><tr><th>11</th><td>2021-08-31T03:00:00+00:00</td><td>2021-08-31T05:00:00</td><td>DK2</td><td>1161.92</td><td>349.54</td></tr><tr><th>12</th><td>2021-08-31T03:00:00+00:00</td><td>2021-08-31T05:00:00</td><td>DK1</td><td>2202.52</td><td>28.63</td></tr><tr><th>13</th><td>2021-08-31T02:00:00+00:00</td><td>2021-08-31T04:00:00</td><td>DK2</td><td>1073.02</td><td>335.09</td></tr><tr><th>14</th><td>2021-08-31T02:00:00+00:00</td><td>2021-08-31T04:00:00</td><td>DK1</td><td>2011.82</td><td>24.24</td></tr><tr><th>15</th><td>2021-08-31T01:00:00+00:00</td><td>2021-08-31T03:00:00</td><td>DK1</td><td>1954.76</td><td>24.28</td></tr><tr><th>16</th><td>2021-08-31T01:00:00+00:00</td><td>2021-08-31T03:00:00</td><td>DK2</td><td>1057.7</td><td>297.92</td></tr><tr><th>17</th><td>2021-08-31T00:00:00+00:00</td><td>2021-08-31T02:00:00</td><td>DK2</td><td>1061.93</td><td>284.46</td></tr><tr><th>18</th><td>2021-08-31T00:00:00+00:00</td><td>2021-08-31T02:00:00</td><td>DK1</td><td>1951.27</td><td>24.3</td></tr><tr><th>19</th><td>2021-08-30T23:00:00+00:00</td><td>2021-08-31T01:00:00</td><td>DK2</td><td>1082.9</td><td>296.89</td></tr><tr><th>20</th><td>2021-08-30T23:00:00+00:00</td><td>2021-08-31T01:00:00</td><td>DK1</td><td>1973.57</td><td>24.31</td></tr><tr><th>21</th><td>2021-08-30T22:00:00+00:00</td><td>2021-08-31T00:00:00</td><td>DK2</td><td>1138.47</td><td>285.44</td></tr><tr><th>22</th><td>2021-08-30T22:00:00+00:00</td><td>2021-08-31T00:00:00</td><td>DK1</td><td>2034.56</td><td>24.34</td></tr><tr><th>23</th><td>2021-08-30T21:00:00+00:00</td><td>2021-08-30T23:00:00</td><td>DK2</td><td>1226.88</td><td>281.51</td></tr><tr><th>24</th><td>2021-08-30T21:00:00+00:00</td><td>2021-08-30T23:00:00</td><td>DK1</td><td>2161.24</td><td>30.47</td></tr><tr><th>25</th><td>2021-08-30T20:00:00+00:00</td><td>2021-08-30T22:00:00</td><td>DK2</td><td>1346.75</td><td>303.93</td></tr><tr><th>26</th><td>2021-08-30T20:00:00+00:00</td><td>2021-08-30T22:00:00</td><td>DK1</td><td>2354.58</td><td>30.76</td></tr><tr><th>27</th><td>2021-08-30T19:00:00+00:00</td><td>2021-08-30T21:00:00</td><td>DK2</td><td>1479.73</td><td>429.45</td></tr><tr><th>28</th><td>2021-08-30T19:00:00+00:00</td><td>2021-08-30T21:00:00</td><td>DK1</td><td>2535.03</td><td>30.45</td></tr><tr><th>29</th><td>2021-08-30T18:00:00+00:00</td><td>2021-08-30T20:00:00</td><td>DK2</td><td>1567.11</td><td>429.18</td></tr><tr><th>30</th><td>2021-08-30T18:00:00+00:00</td><td>2021-08-30T20:00:00</td><td>DK1</td><td>2630.52</td><td>30.68</td></tr><tr><th>&vellip;</th><td>&vellip;</td><td>&vellip;</td><td>&vellip;</td><td>&vellip;</td><td>&vellip;</td></tr></tbody></table></div>"
      ],
      "text/latex": [
       "\\begin{tabular}{r|cccccc}\n",
       "\t& HourUTC & HourDK & PriceArea & TotalLoad & Biomass & \\\\\n",
       "\t\\hline\n",
       "\t& String & DateTime & String & Float64? & Float64? & \\\\\n",
       "\t\\hline\n",
       "\t1 & 2021-08-31T08:00:00+00:00 & 2021-08-31T10:00:00 & DK2 & 1713.02 & 357.67 & $\\dots$ \\\\\n",
       "\t2 & 2021-08-31T08:00:00+00:00 & 2021-08-31T10:00:00 & DK1 & 3038.9 & 30.38 & $\\dots$ \\\\\n",
       "\t3 & 2021-08-31T07:00:00+00:00 & 2021-08-31T09:00:00 & DK1 & 2988.66 & 30.87 & $\\dots$ \\\\\n",
       "\t4 & 2021-08-31T07:00:00+00:00 & 2021-08-31T09:00:00 & DK2 & 1694.22 & 371.29 & $\\dots$ \\\\\n",
       "\t5 & 2021-08-31T06:00:00+00:00 & 2021-08-31T08:00:00 & DK2 & 1640.6 & 508.45 & $\\dots$ \\\\\n",
       "\t6 & 2021-08-31T06:00:00+00:00 & 2021-08-31T08:00:00 & DK1 & 2793.64 & 31.54 & $\\dots$ \\\\\n",
       "\t7 & 2021-08-31T05:00:00+00:00 & 2021-08-31T07:00:00 & DK1 & 2734.95 & 30.12 & $\\dots$ \\\\\n",
       "\t8 & 2021-08-31T05:00:00+00:00 & 2021-08-31T07:00:00 & DK2 & 1522.96 & 481.97 & $\\dots$ \\\\\n",
       "\t9 & 2021-08-31T04:00:00+00:00 & 2021-08-31T06:00:00 & DK2 & 1339.02 & 359.9 & $\\dots$ \\\\\n",
       "\t10 & 2021-08-31T04:00:00+00:00 & 2021-08-31T06:00:00 & DK1 & 2506.82 & 29.53 & $\\dots$ \\\\\n",
       "\t11 & 2021-08-31T03:00:00+00:00 & 2021-08-31T05:00:00 & DK2 & 1161.92 & 349.54 & $\\dots$ \\\\\n",
       "\t12 & 2021-08-31T03:00:00+00:00 & 2021-08-31T05:00:00 & DK1 & 2202.52 & 28.63 & $\\dots$ \\\\\n",
       "\t13 & 2021-08-31T02:00:00+00:00 & 2021-08-31T04:00:00 & DK2 & 1073.02 & 335.09 & $\\dots$ \\\\\n",
       "\t14 & 2021-08-31T02:00:00+00:00 & 2021-08-31T04:00:00 & DK1 & 2011.82 & 24.24 & $\\dots$ \\\\\n",
       "\t15 & 2021-08-31T01:00:00+00:00 & 2021-08-31T03:00:00 & DK1 & 1954.76 & 24.28 & $\\dots$ \\\\\n",
       "\t16 & 2021-08-31T01:00:00+00:00 & 2021-08-31T03:00:00 & DK2 & 1057.7 & 297.92 & $\\dots$ \\\\\n",
       "\t17 & 2021-08-31T00:00:00+00:00 & 2021-08-31T02:00:00 & DK2 & 1061.93 & 284.46 & $\\dots$ \\\\\n",
       "\t18 & 2021-08-31T00:00:00+00:00 & 2021-08-31T02:00:00 & DK1 & 1951.27 & 24.3 & $\\dots$ \\\\\n",
       "\t19 & 2021-08-30T23:00:00+00:00 & 2021-08-31T01:00:00 & DK2 & 1082.9 & 296.89 & $\\dots$ \\\\\n",
       "\t20 & 2021-08-30T23:00:00+00:00 & 2021-08-31T01:00:00 & DK1 & 1973.57 & 24.31 & $\\dots$ \\\\\n",
       "\t21 & 2021-08-30T22:00:00+00:00 & 2021-08-31T00:00:00 & DK2 & 1138.47 & 285.44 & $\\dots$ \\\\\n",
       "\t22 & 2021-08-30T22:00:00+00:00 & 2021-08-31T00:00:00 & DK1 & 2034.56 & 24.34 & $\\dots$ \\\\\n",
       "\t23 & 2021-08-30T21:00:00+00:00 & 2021-08-30T23:00:00 & DK2 & 1226.88 & 281.51 & $\\dots$ \\\\\n",
       "\t24 & 2021-08-30T21:00:00+00:00 & 2021-08-30T23:00:00 & DK1 & 2161.24 & 30.47 & $\\dots$ \\\\\n",
       "\t25 & 2021-08-30T20:00:00+00:00 & 2021-08-30T22:00:00 & DK2 & 1346.75 & 303.93 & $\\dots$ \\\\\n",
       "\t26 & 2021-08-30T20:00:00+00:00 & 2021-08-30T22:00:00 & DK1 & 2354.58 & 30.76 & $\\dots$ \\\\\n",
       "\t27 & 2021-08-30T19:00:00+00:00 & 2021-08-30T21:00:00 & DK2 & 1479.73 & 429.45 & $\\dots$ \\\\\n",
       "\t28 & 2021-08-30T19:00:00+00:00 & 2021-08-30T21:00:00 & DK1 & 2535.03 & 30.45 & $\\dots$ \\\\\n",
       "\t29 & 2021-08-30T18:00:00+00:00 & 2021-08-30T20:00:00 & DK2 & 1567.11 & 429.18 & $\\dots$ \\\\\n",
       "\t30 & 2021-08-30T18:00:00+00:00 & 2021-08-30T20:00:00 & DK1 & 2630.52 & 30.68 & $\\dots$ \\\\\n",
       "\t$\\dots$ & $\\dots$ & $\\dots$ & $\\dots$ & $\\dots$ & $\\dots$ &  \\\\\n",
       "\\end{tabular}\n"
      ],
      "text/plain": [
       "\u001b[1m81660×17 DataFrame\u001b[0m\n",
       "\u001b[1m   Row \u001b[0m│\u001b[1m HourUTC                   \u001b[0m\u001b[1m HourDK              \u001b[0m\u001b[1m PriceArea \u001b[0m\u001b[1m TotalLoad \u001b[0m ⋯\n",
       "\u001b[1m       \u001b[0m│\u001b[90m String                    \u001b[0m\u001b[90m DateTime            \u001b[0m\u001b[90m String    \u001b[0m\u001b[90m Float64?  \u001b[0m ⋯\n",
       "───────┼────────────────────────────────────────────────────────────────────────\n",
       "     1 │ 2021-08-31T08:00:00+00:00  2021-08-31T10:00:00  DK2           1713.02 ⋯\n",
       "     2 │ 2021-08-31T08:00:00+00:00  2021-08-31T10:00:00  DK1           3038.9\n",
       "     3 │ 2021-08-31T07:00:00+00:00  2021-08-31T09:00:00  DK1           2988.66\n",
       "     4 │ 2021-08-31T07:00:00+00:00  2021-08-31T09:00:00  DK2           1694.22\n",
       "     5 │ 2021-08-31T06:00:00+00:00  2021-08-31T08:00:00  DK2           1640.6  ⋯\n",
       "     6 │ 2021-08-31T06:00:00+00:00  2021-08-31T08:00:00  DK1           2793.64\n",
       "     7 │ 2021-08-31T05:00:00+00:00  2021-08-31T07:00:00  DK1           2734.95\n",
       "     8 │ 2021-08-31T05:00:00+00:00  2021-08-31T07:00:00  DK2           1522.96\n",
       "     9 │ 2021-08-31T04:00:00+00:00  2021-08-31T06:00:00  DK2           1339.02 ⋯\n",
       "    10 │ 2021-08-31T04:00:00+00:00  2021-08-31T06:00:00  DK1           2506.82\n",
       "    11 │ 2021-08-31T03:00:00+00:00  2021-08-31T05:00:00  DK2           1161.92\n",
       "   ⋮   │             ⋮                       ⋮               ⋮          ⋮      ⋱\n",
       " 81651 │ 2017-01-01T03:00:00+00:00  2017-01-01T04:00:00  DK2       \u001b[90m missing\u001b[0m\n",
       " 81652 │ 2017-01-01T03:00:00+00:00  2017-01-01T04:00:00  DK1       \u001b[90m missing   \u001b[0m ⋯\n",
       " 81653 │ 2017-01-01T02:00:00+00:00  2017-01-01T03:00:00  DK1       \u001b[90m missing\u001b[0m\n",
       " 81654 │ 2017-01-01T02:00:00+00:00  2017-01-01T03:00:00  DK2       \u001b[90m missing\u001b[0m\n",
       " 81655 │ 2017-01-01T01:00:00+00:00  2017-01-01T02:00:00  DK2       \u001b[90m missing\u001b[0m\n",
       " 81656 │ 2017-01-01T01:00:00+00:00  2017-01-01T02:00:00  DK1       \u001b[90m missing   \u001b[0m ⋯\n",
       " 81657 │ 2017-01-01T00:00:00+00:00  2017-01-01T01:00:00  DK1       \u001b[90m missing\u001b[0m\n",
       " 81658 │ 2017-01-01T00:00:00+00:00  2017-01-01T01:00:00  DK2       \u001b[90m missing\u001b[0m\n",
       " 81659 │ 2016-12-31T23:00:00+00:00  2017-01-01T00:00:00  DK2       \u001b[90m missing\u001b[0m\n",
       " 81660 │ 2016-12-31T23:00:00+00:00  2017-01-01T00:00:00  DK1       \u001b[90m missing   \u001b[0m ⋯\n",
       "\u001b[36m                                               13 columns and 81639 rows omitted\u001b[0m"
      ]
     },
     "execution_count": 6,
     "metadata": {},
     "output_type": "execute_result"
    }
   ],
   "source": [
    "# load the data file\n",
    "file_name = \"electricitybalancenonv_8_31_2021.csv\"\n",
    "df = DataFrame(CSV.File(file_name))"
   ]
  },
  {
   "cell_type": "markdown",
   "id": "80429c27-49b1-462d-a029-7622dbb81541",
   "metadata": {},
   "source": [
    "The data file covers a period of several years which is not what I need for my calculations. Therefore, I extract shorter periods from the data:"
   ]
  },
  {
   "cell_type": "code",
   "execution_count": 5,
   "id": "9896d079-a329-46ab-b175-7d58bbd9a842",
   "metadata": {},
   "outputs": [
    {
     "data": {
      "text/plain": [
       "5810-element Vector{DateTime}:\n",
       " 2051-01-30T00:00:00\n",
       " 2051-01-30T00:00:00\n",
       " 2051-01-29T23:00:00\n",
       " 2051-01-29T23:00:00\n",
       " 2051-01-29T22:00:00\n",
       " 2051-01-29T22:00:00\n",
       " 2051-01-29T21:00:00\n",
       " 2051-01-29T21:00:00\n",
       " 2051-01-29T20:00:00\n",
       " 2051-01-29T20:00:00\n",
       " 2051-01-29T19:00:00\n",
       " 2051-01-29T19:00:00\n",
       " 2051-01-29T18:00:00\n",
       " ⋮\n",
       " 2050-10-01T05:00:00\n",
       " 2050-10-01T05:00:00\n",
       " 2050-10-01T04:00:00\n",
       " 2050-10-01T04:00:00\n",
       " 2050-10-01T03:00:00\n",
       " 2050-10-01T03:00:00\n",
       " 2050-10-01T02:00:00\n",
       " 2050-10-01T02:00:00\n",
       " 2050-10-01T01:00:00\n",
       " 2050-10-01T01:00:00\n",
       " 2050-10-01T00:00:00\n",
       " 2050-10-01T00:00:00"
      ]
     },
     "execution_count": 5,
     "metadata": {},
     "output_type": "execute_result"
    }
   ],
   "source": [
    "# separate the relevant section\n",
    "date_begin = DateTime(\"2020-10-01\")\n",
    "date_end = DateTime(\"2021-01-30\")\n",
    "d_long = df[date_begin .<= df.HourDK .<= date_end, :]\n",
    "d_long.HourDK .+= Dates.Year(30)"
   ]
  },
  {
   "cell_type": "code",
   "execution_count": null,
   "id": "de832d68-0401-449b-8d75-eb181a275fa1",
   "metadata": {},
   "outputs": [],
   "source": [
    "# extract the surplus and demand in the future\n",
    "future_coef = 4.0\n",
    "demand_coef = 1.5\n",
    "new_elec = future_coef*(d_long.OnshoreWindPower+d_long.OffshoreWindPower)\n",
    "current_demand = demand_coef*d_long.TotalLoad\n",
    "surplus_elec = new_elec-current_demand\n",
    "new_elec[new_elec .> current_demand] .= current_demand[new_elec .> current_demand]\n",
    "surplus_elec[surplus_elec .< 0] .= 0.0\n",
    "shortage_elec = current_demand-new_elec\n",
    "\n",
    "# set the end of storage\n",
    "end_storage = \"2020-11-30\""
   ]
  }
 ],
 "metadata": {
  "kernelspec": {
   "display_name": "Julia 1.6.2",
   "language": "julia",
   "name": "julia-1.6"
  },
  "language_info": {
   "file_extension": ".jl",
   "mimetype": "application/julia",
   "name": "julia",
   "version": "1.6.2"
  }
 },
 "nbformat": 4,
 "nbformat_minor": 5
}
