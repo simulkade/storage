{
 "cells": [
  {
   "cell_type": "markdown",
   "id": "baa10027-4044-4bdf-94c9-d7aa939d1e97",
   "metadata": {},
   "source": [
    "# Interpore Brazil slides\n",
    "The notebook contains some of my calculations for the interpore Brazil conference.\n",
    "## Introduction slides\n",
    "Energy consumption in Brazil"
   ]
  },
  {
   "cell_type": "code",
   "execution_count": 1,
   "id": "fdbffc59-0592-4a55-9d56-df05602913ba",
   "metadata": {},
   "outputs": [],
   "source": [
    "using DataFrames"
   ]
  },
  {
   "cell_type": "code",
   "execution_count": 5,
   "id": "8d4bca8d-27a5-4df2-bc45-42d1b414f578",
   "metadata": {},
   "outputs": [
    {
     "data": {
      "text/plain": [
       "14183.008451816793"
      ]
     },
     "execution_count": 5,
     "metadata": {},
     "output_type": "execute_result"
    }
   ],
   "source": [
    "Brazil = Dict((\n",
    "    \"area\" => 8515767e6,      # m2\n",
    "    \"population\"=>210147125,  # [-]\n",
    "    \"water\"=>0.65,            # [fraction]\n",
    "    \"electricity\"=>509.10e9,  # [kWh]\n",
    "    \"oil\"=>,                  # \n",
    "    \"agriculture\"=>0.28,      # fraction\n",
    ")\n",
    "area_per_person = Brazil[\"area\"]*(1-Brazil[\"water\"])/Brazil[\"population\"]"
   ]
  },
  {
   "cell_type": "code",
   "execution_count": 14,
   "id": "be5a02eb-99df-4532-bc79-e68aa2f743e8",
   "metadata": {},
   "outputs": [
    {
     "name": "stdout",
     "output_type": "stream",
     "text": [
      "electricity per person per day = 6.637228658483647 kWh/(d.p)\n",
      "oil per person per day = 24.139278612543475 kWh/(d.p)\n",
      "gas per person per day = 4.64 kWh/(d.p)"
     ]
    },
    {
     "data": {
      "text/plain": [
       "14.874933053831391"
      ]
     },
     "execution_count": 14,
     "metadata": {},
     "output_type": "execute_result"
    },
    {
     "name": "stdout",
     "output_type": "stream",
     "text": [
      "\n"
     ]
    }
   ],
   "source": [
    "# source https://knoema.com/atlas/Brazil/topics/Land-Use/Area/Land-area\n",
    "land = 8515770.0e6 # m2 land\n",
    "forest = 4990514.0e6 # m2\n",
    "agriculture_land = 0.28*land\n",
    "available_land = land-forest\n",
    "population = 210147125\n",
    "land_pp = available_land/population\n",
    "agriculture_land_pp = agriculture_land/population\n",
    "electricity = 509.1e9 # kWh\n",
    "elec_pp = electricity/(population*365) # kWh/(pp. day)\n",
    "println(\"electricity per person per day = $elec_pp kWh/(d.p)\")\n",
    "energy_per_bbl = 1700 # kWh/bbl\n",
    "oil_pp = 2984000*energy_per_bbl/population # kWh/(d.p)\n",
    "gas_pp = 16.0*0.29 # kWh/(d.p) NG\n",
    "println(\"oil per person per day = $oil_pp kWh/(d.p)\")\n",
    "println(\"gas per person per day = $gas_pp kWh/(d.p)\")\n",
    "light_pp = (elec_pp+oil_pp+gas_pp)/100*42"
   ]
  },
  {
   "cell_type": "code",
   "execution_count": 17,
   "id": "24317fd9-fc0a-4480-835a-676727197ae6",
   "metadata": {},
   "outputs": [
    {
     "data": {
      "text/plain": [
       "12.08729701726826"
      ]
     },
     "execution_count": 17,
     "metadata": {},
     "output_type": "execute_result"
    }
   ],
   "source": [
    "(oil_pp+gas_pp)/100*42"
   ]
  }
 ],
 "metadata": {
  "kernelspec": {
   "display_name": "Julia 1.6.2",
   "language": "julia",
   "name": "julia-1.6"
  },
  "language_info": {
   "file_extension": ".jl",
   "mimetype": "application/julia",
   "name": "julia",
   "version": "1.6.2"
  }
 },
 "nbformat": 4,
 "nbformat_minor": 5
}
